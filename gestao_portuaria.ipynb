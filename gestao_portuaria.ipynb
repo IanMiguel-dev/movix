{
  "nbformat": 4,
  "nbformat_minor": 0,
  "metadata": {
    "colab": {
      "provenance": [],
      "authorship_tag": "ABX9TyNTbtGuiviH3OvDl8MEG2jM",
      "include_colab_link": true
    },
    "kernelspec": {
      "name": "python3",
      "display_name": "Python 3"
    },
    "language_info": {
      "name": "python"
    }
  },
  "cells": [
    {
      "cell_type": "markdown",
      "metadata": {
        "id": "view-in-github",
        "colab_type": "text"
      },
      "source": [
        "<a href=\"https://colab.research.google.com/github/IanMiguel-dev/movix/blob/main/gestao_portuaria.ipynb\" target=\"_parent\"><img src=\"https://colab.research.google.com/assets/colab-badge.svg\" alt=\"Open In Colab\"/></a>"
      ]
    },
    {
      "cell_type": "code",
      "execution_count": 1,
      "metadata": {
        "colab": {
          "base_uri": "https://localhost:8080/"
        },
        "id": "S3L8we-zVmSJ",
        "outputId": "0243399a-9028-440e-a450-be80da408d15"
      },
      "outputs": [
        {
          "output_type": "stream",
          "name": "stdout",
          "text": [
            "  ID_Navio               Porto      Tipo_Carga  Peso_Toneladas  \\\n",
            "0  NAV1000  Porto de Paranaguá      Carga Viva           29064   \n",
            "1  NAV1001  Porto de Paranaguá   Granel Sólido            9397   \n",
            "2  NAV1002     Porto de Santos  Granel Líquido            9253   \n",
            "3  NAV1003     Porto de Santos      Carga Viva           18000   \n",
            "4  NAV1004      Porto de Suape     Carga Geral           35955   \n",
            "\n",
            "   Tempo_Atracacao_horas     Origem        Destino Data_Chegada  \\\n",
            "0                     17   Alemanha    Reino Unido   2024-01-01   \n",
            "1                     34   Alemanha         Brasil   2024-01-02   \n",
            "2                     77      China  África do Sul   2024-01-03   \n",
            "3                     63   Alemanha        Espanha   2024-01-04   \n",
            "4                     95  Argentina        Espanha   2024-01-05   \n",
            "\n",
            "   Eficiência_Operacional  \n",
            "0                 1709.65  \n",
            "1                  276.38  \n",
            "2                  120.17  \n",
            "3                  285.71  \n",
            "4                  378.47  \n"
          ]
        }
      ],
      "source": [
        "import pandas as pd\n",
        "import numpy as np\n",
        "import random\n",
        "\n",
        "# Definindo parâmetros básicos\n",
        "portos = ['Porto de Santos', 'Porto de Itaguaí', 'Porto de Suape', 'Porto de Paranaguá', 'Porto de Manaus']\n",
        "tipos_carga = ['Granel Sólido', 'Granel Líquido', 'Conteinerizada', 'Carga Geral', 'Carga Viva']\n",
        "origens = ['China', 'Estados Unidos', 'Brasil', 'Alemanha', 'Argentina']\n",
        "destinos = ['África do Sul', 'Brasil', 'Reino Unido', 'México', 'Espanha']\n",
        "\n",
        "# Gerando dados fictícios\n",
        "def gerar_dados_portuarios(n_registros=100):\n",
        "    dados = {\n",
        "        'ID_Navio': [f'NAV{1000+i}' for i in range(n_registros)],\n",
        "        'Porto': [random.choice(portos) for _ in range(n_registros)],\n",
        "        'Tipo_Carga': [random.choice(tipos_carga) for _ in range(n_registros)],\n",
        "        'Peso_Toneladas': np.random.randint(500, 50000, n_registros),\n",
        "        'Tempo_Atracacao_horas': np.random.randint(8, 120, n_registros),\n",
        "        'Origem': [random.choice(origens) for _ in range(n_registros)],\n",
        "        'Destino': [random.choice(destinos) for _ in range(n_registros)],\n",
        "        'Data_Chegada': pd.date_range(start='2024-01-01', periods=n_registros, freq='D')\n",
        "    }\n",
        "    df = pd.DataFrame(dados)\n",
        "    df['Eficiência_Operacional'] = np.round(df['Peso_Toneladas'] / df['Tempo_Atracacao_horas'], 2)\n",
        "    return df\n",
        "\n",
        "# Gerar e visualizar os dados\n",
        "df_porto = gerar_dados_portuarios(100)\n",
        "print(df_porto.head())\n"
      ]
    }
  ]
}